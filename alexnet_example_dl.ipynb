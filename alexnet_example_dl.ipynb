{
  "nbformat": 4,
  "nbformat_minor": 0,
  "metadata": {
    "colab": {
      "name": "alexnet-example-dl.ipynb",
      "provenance": []
    },
    "kernelspec": {
      "name": "python3",
      "display_name": "Python 3"
    },
    "language_info": {
      "name": "python"
    },
    "accelerator": "GPU"
  },
  "cells": [
    {
      "cell_type": "code",
      "metadata": {
        "id": "C-NqNuifvbPm"
      },
      "source": [
        "import numpy\n",
        "from matplotlib import pyplot as plt\n",
        "\n",
        "#import keras libraries\n",
        "from keras.models import Sequential\n",
        "from keras.layers.core import Dense, Dropout, Activation, Flatten\n",
        "from keras.layers.convolutional import Conv2D, MaxPooling2D, ZeroPadding2D\n",
        "from tensorflow.keras.layers import BatchNormalization\n",
        "from keras.regularizers import l2\n",
        "from keras.datasets import cifar10, cifar100\n",
        "from tensorflow.keras.optimizers import Adam\n",
        "from keras.utils.np_utils import to_categorical"
      ],
      "execution_count": 4,
      "outputs": []
    },
    {
      "cell_type": "code",
      "metadata": {
        "id": "eLn5HJyxxMEB"
      },
      "source": [
        "(X_train10, y_train10), (X_test10, y_test10) = cifar10.load_data()\n",
        "(X_train100, y_train100), (X_test100, y_test100) = cifar100.load_data()"
      ],
      "execution_count": null,
      "outputs": []
    },
    {
      "cell_type": "code",
      "metadata": {
        "id": "DUblE7uKyi7c"
      },
      "source": [
        "for i in range(9):\n",
        "  plt.subplot(330 + 1 + i)\n",
        "  plt.imshow(X_train10[i])\n",
        "\n",
        "plt.show()\n",
        "print(y_train10[0:9].T)\n",
        "\n",
        "for i in range(9):\n",
        "  plt.subplot(330 + 1 + i)\n",
        "  plt.imshow(X_train100[i])\n",
        "\n",
        "plt.show()\n",
        "print(y_train100[0:9].T)"
      ],
      "execution_count": null,
      "outputs": []
    },
    {
      "cell_type": "code",
      "metadata": {
        "id": "xZws07XK0kWp"
      },
      "source": [
        "# create alexnet\n",
        "alexnet = Sequential()\n",
        "\n",
        "# layer 1\n",
        "# convolutional layer\n",
        "alexnet.add(Conv2D(96, (11,11), strides=(4,4), input_shape=(32,32,3), padding='same'))\n",
        "alexnet.add(Activation('relu'))\n",
        "\n",
        "# polling layer\n",
        "alexnet.add(MaxPooling2D(pool_size=(2,2)))\n",
        "\n",
        "# layer 2\n",
        "alexnet.add(Conv2D(256, (5,5), padding='same'))\n",
        "alexnet.add(Activation('relu'))\n",
        "alexnet.add(MaxPooling2D(pool_size=(2,2)))\n",
        "\n",
        "# layer 3\n",
        "alexnet.add(Conv2D(384, (3,3), padding='same'))\n",
        "alexnet.add(Activation('relu'))\n",
        "\n",
        "# layer 4\n",
        "alexnet.add(Conv2D(384, (3,3), padding='same'))\n",
        "alexnet.add(Activation('relu'))\n",
        "\n",
        "# layer 5\n",
        "alexnet.add(Conv2D(256, (3,3), padding='same'))\n",
        "alexnet.add(Activation('relu'))\n",
        "alexnet.add(MaxPooling2D(pool_size=(2,2)))\n",
        "\n",
        "# matrix to one dimension\n",
        "alexnet.add(Flatten())\n",
        "\n",
        "# layer 6\n",
        "alexnet.add(Dense(4096))\n",
        "alexnet.add(Activation('relu'))\n",
        "\n",
        "# layer 7\n",
        "alexnet.add(Dense(4096))\n",
        "alexnet.add(Activation('relu'))\n",
        "\n",
        "# layer 8\n",
        "alexnet.add(Dense(10))\n",
        "alexnet.add(Activation('softmax'))"
      ],
      "execution_count": 26,
      "outputs": []
    },
    {
      "cell_type": "code",
      "metadata": {
        "colab": {
          "base_uri": "https://localhost:8080/"
        },
        "id": "1cxOUVOz8z0O",
        "outputId": "84fa9152-3a08-4f9f-948a-b68c899f7903"
      },
      "source": [
        "# model compilation\n",
        "alexnet.compile(loss='categorical_crossentropy', optimizer=Adam(learning_rate=0.0001), metrics=['accuracy'])\n",
        "\n",
        "# model training\n",
        "alexnet.fit(X_train10 / 255.0, to_categorical(y_train10), batch_size=128, shuffle=True, epochs=10, validation_data=(X_test10 / 255.0, to_categorical(y_test10)))"
      ],
      "execution_count": 27,
      "outputs": [
        {
          "output_type": "stream",
          "name": "stdout",
          "text": [
            "Epoch 1/10\n",
            "391/391 [==============================] - 30s 51ms/step - loss: 1.8569 - accuracy: 0.2893 - val_loss: 1.6005 - val_accuracy: 0.3959\n",
            "Epoch 2/10\n",
            "391/391 [==============================] - 19s 48ms/step - loss: 1.4946 - accuracy: 0.4409 - val_loss: 1.3623 - val_accuracy: 0.4971\n",
            "Epoch 3/10\n",
            "391/391 [==============================] - 18s 47ms/step - loss: 1.3139 - accuracy: 0.5196 - val_loss: 1.2692 - val_accuracy: 0.5301\n",
            "Epoch 4/10\n",
            "391/391 [==============================] - 19s 47ms/step - loss: 1.1972 - accuracy: 0.5640 - val_loss: 1.2292 - val_accuracy: 0.5546\n",
            "Epoch 5/10\n",
            "391/391 [==============================] - 19s 48ms/step - loss: 1.1013 - accuracy: 0.6024 - val_loss: 1.2654 - val_accuracy: 0.5368\n",
            "Epoch 6/10\n",
            "391/391 [==============================] - 19s 48ms/step - loss: 1.0126 - accuracy: 0.6363 - val_loss: 1.1514 - val_accuracy: 0.5935\n",
            "Epoch 7/10\n",
            "391/391 [==============================] - 19s 47ms/step - loss: 0.9131 - accuracy: 0.6705 - val_loss: 1.1302 - val_accuracy: 0.6029\n",
            "Epoch 8/10\n",
            "391/391 [==============================] - 19s 47ms/step - loss: 0.8190 - accuracy: 0.7068 - val_loss: 1.2255 - val_accuracy: 0.5912\n",
            "Epoch 9/10\n",
            "391/391 [==============================] - 19s 48ms/step - loss: 0.7229 - accuracy: 0.7426 - val_loss: 1.1321 - val_accuracy: 0.6253\n",
            "Epoch 10/10\n",
            "391/391 [==============================] - 18s 47ms/step - loss: 0.6303 - accuracy: 0.7770 - val_loss: 1.1746 - val_accuracy: 0.6179\n"
          ]
        },
        {
          "output_type": "execute_result",
          "data": {
            "text/plain": [
              "<keras.callbacks.History at 0x7f3fc7b197d0>"
            ]
          },
          "metadata": {},
          "execution_count": 27
        }
      ]
    }
  ]
}