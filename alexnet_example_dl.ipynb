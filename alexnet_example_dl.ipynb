{
  "nbformat": 4,
  "nbformat_minor": 0,
  "metadata": {
    "colab": {
      "name": "alexnet-sample-dl.ipynb",
      "provenance": []
    },
    "kernelspec": {
      "name": "python3",
      "display_name": "Python 3"
    },
    "language_info": {
      "name": "python"
    },
    "accelerator": "GPU"
  },
  "cells": [
    {
      "cell_type": "code",
      "metadata": {
        "id": "C-NqNuifvbPm"
      },
      "source": [
        "import numpy\n",
        "from matplotlib import pyplot as plt\n",
        "\n",
        "#import keras libraries\n",
        "from keras.models import Sequential\n",
        "from keras.layers.core import Dense, Dropout, Activation, Flatten\n",
        "from keras.layers.convolutional import Conv2D, MaxPooling2D, ZeroPadding2D\n",
        "from tensorflow.keras.layers import BatchNormalization\n",
        "from keras.regularizers import l2\n",
        "from keras.datasets import cifar10, cifar100\n",
        "from tensorflow.keras.optimizers import Adam\n",
        "from keras.utils.np_utils import to_categorical"
      ],
      "execution_count": 4,
      "outputs": []
    },
    {
      "cell_type": "code",
      "metadata": {
        "id": "eLn5HJyxxMEB"
      },
      "source": [
        "(X_train10, y_train10), (X_test10, y_test10) = cifar10.load_data()\n",
        "(X_train100, y_train100), (X_test100, y_test100) = cifar100.load_data()"
      ],
      "execution_count": null,
      "outputs": []
    },
    {
      "cell_type": "code",
      "metadata": {
        "id": "DUblE7uKyi7c"
      },
      "source": [
        "for i in range(9):\n",
        "  plt.subplot(330 + 1 + i)\n",
        "  plt.imshow(X_train10[i])\n",
        "\n",
        "plt.show()\n",
        "print(y_train10[0:9].T)\n",
        "\n",
        "for i in range(9):\n",
        "  plt.subplot(330 + 1 + i)\n",
        "  plt.imshow(X_train100[i])\n",
        "\n",
        "plt.show()\n",
        "print(y_train100[0:9].T)"
      ],
      "execution_count": null,
      "outputs": []
    },
    {
      "cell_type": "code",
      "metadata": {
        "id": "xZws07XK0kWp"
      },
      "source": [
        "# create alexnet\n",
        "alexnet = Sequential()\n",
        "\n",
        "# layer 1\n",
        "# convolutional layer\n",
        "alexnet.add(Conv2D(96, (11,11), strides=(4,4)))\n",
        "alexnet.add(Activation('relu'))\n",
        "\n",
        "# polling layer\n",
        "alexnet.add(MaxPooling2D(pool_size=(2,2)))\n",
        "\n",
        "# layer 2\n",
        "alexnet.add(Conv2D(256, (5,5)))\n",
        "alexnet.add(Activation('relu'))\n",
        "alexnet.add(MaxPooling2D(pool_size=(2,2)))\n",
        "\n",
        "# layer 3\n",
        "alexnet.add(Conv2D(384, (3,3)))\n",
        "alexnet.add(Activation('relu'))\n",
        "\n",
        "# layer 4\n",
        "alexnet.add(Conv2D(384, (3,3)))\n",
        "alexnet.add(Activation('relu'))\n",
        "\n",
        "# layer 5\n",
        "alexnet.add(Conv2D(256, (3,3)))\n",
        "alexnet.add(Activation('relu'))\n",
        "alexnet.add(MaxPooling2D(pool_size=(2,2)))\n",
        "\n",
        "# matrix to one dimension\n",
        "alexnet.add(Flatten())\n",
        "\n",
        "# layer 6\n",
        "alexnet.add(Dense(4096))\n",
        "alexnet.add(Activation('relu'))\n",
        "\n",
        "# layer 7\n",
        "alexnet.add(Dense(4096))\n",
        "alexnet.add(Activation('relu'))\n",
        "\n",
        "# layer 8\n",
        "alexnet.add(Dense(1000))\n",
        "alexnet.add(Activation('softmax'))"
      ],
      "execution_count": 17,
      "outputs": []
    }
  ]
}